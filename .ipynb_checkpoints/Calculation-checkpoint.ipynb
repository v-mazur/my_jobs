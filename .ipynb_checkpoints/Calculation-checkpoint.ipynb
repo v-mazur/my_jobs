{
 "cells": [
  {
   "cell_type": "code",
   "execution_count": 1,
   "id": "3b102e05",
   "metadata": {},
   "outputs": [
    {
     "name": "stdout",
     "output_type": "stream",
     "text": [
      "Введите первое число: 2\n",
      "Введите второе число: 3\n",
      "Введите действие:\n",
      " 1 - Умножение,\n",
      " 2 - Сложение,\n",
      " 3 - Вычитание,\n",
      " 4 - Деление\n",
      " 2\n",
      "Ответ: 5\n"
     ]
    }
   ],
   "source": [
    "vvod_1 = int(input(\"Введите первое число: \"))\n",
    "vvod_2 = int(input(\"Введите второе число: \"))\n",
    "vvod_3 = input(\"Введите действие:\\n 1 - Умножение,\\n 2 - Сложение,\\n 3 - Вычитание,\\n 4 - Деление\\n \")\n",
    "\n",
    "if vvod_3 == '1':\n",
    "    res = vvod_1 * vvod_2\n",
    "elif vvod_3 == '2':\n",
    "    res = vvod_1 + vvod_2\n",
    "elif vvod_3 == '3':\n",
    "    res = vvod_1 - vvod_2\n",
    "elif vvod_3 == '4':\n",
    "    res = vvod_1 / vvod_2\n",
    "    \n",
    "print (f'Ответ: {res}')\n"
   ]
  },
  {
   "cell_type": "code",
   "execution_count": null,
   "id": "113e50cd",
   "metadata": {},
   "outputs": [],
   "source": []
  }
 ],
 "metadata": {
  "kernelspec": {
   "display_name": "Python 3 (ipykernel)",
   "language": "python",
   "name": "python3"
  },
  "language_info": {
   "codemirror_mode": {
    "name": "ipython",
    "version": 3
   },
   "file_extension": ".py",
   "mimetype": "text/x-python",
   "name": "python",
   "nbconvert_exporter": "python",
   "pygments_lexer": "ipython3",
   "version": "3.9.13"
  }
 },
 "nbformat": 4,
 "nbformat_minor": 5
}
