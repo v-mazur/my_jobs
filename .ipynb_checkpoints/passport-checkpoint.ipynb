{
 "cells": [
  {
   "cell_type": "markdown",
   "id": "29193434-cac2-468a-972c-f482a6ad7ee5",
   "metadata": {},
   "source": [
    "# Пароль: бесконечная попытка ввода"
   ]
  },
  {
   "cell_type": "code",
   "execution_count": 13,
   "id": "c39cd8ef-0851-47f8-8d51-c6567c2c1a03",
   "metadata": {},
   "outputs": [],
   "source": [
    "def func():\n",
    "    passport = 'vlad'\n",
    "    vvod = input(\"Введите пароль:\")\n",
    "    if vvod != passport:\n",
    "        while vvod != passport:\n",
    "            vvod_2 = input(\"Введите пароль повторно:\")\n",
    "            if vvod_2 == passport:\n",
    "                res = print('Ok!')\n",
    "                break\n",
    "    else:\n",
    "        res = print('Ok!')\n",
    "    return res"
   ]
  },
  {
   "cell_type": "code",
   "execution_count": 14,
   "id": "f9118987-f033-40b5-8201-2ef8364127bb",
   "metadata": {},
   "outputs": [
    {
     "name": "stdin",
     "output_type": "stream",
     "text": [
      "Введите пароль: vlad\n"
     ]
    },
    {
     "name": "stdout",
     "output_type": "stream",
     "text": [
      "Ok!\n"
     ]
    }
   ],
   "source": [
    "func()"
   ]
  },
  {
   "cell_type": "markdown",
   "id": "88180281-89a7-4e35-bf1a-4a1546085e36",
   "metadata": {},
   "source": [
    "# Пароль: только 3 попытки ввода"
   ]
  },
  {
   "cell_type": "code",
   "execution_count": 21,
   "id": "c9d3df53-6ce9-42ed-af9b-60ed2bf8be3b",
   "metadata": {},
   "outputs": [],
   "source": [
    "def func():\n",
    "    passport = 'vlad'\n",
    "    vvod = input(\"Введите пароль:\")\n",
    "    if vvod != passport:\n",
    "        count = 1\n",
    "        while vvod != passport and count < 3:\n",
    "            count += 1\n",
    "            vvod = input(\"Введите пароль повторно:\")\n",
    "            if vvod == passport and count <= 3:\n",
    "                res = print('Ok!')\n",
    "                break\n",
    "            elif vvod != passport and count == 3:\n",
    "                res = print('Пароль неверный')\n",
    "    else:\n",
    "        res = print('Ok!')\n",
    "        return res"
   ]
  },
  {
   "cell_type": "code",
   "execution_count": 22,
   "id": "07328923-e99c-48b3-8620-0f24c6c590f3",
   "metadata": {},
   "outputs": [
    {
     "name": "stdin",
     "output_type": "stream",
     "text": [
      "Введите пароль: 22\n",
      "Введите пароль повторно: 22\n",
      "Введите пароль повторно: vlad\n"
     ]
    },
    {
     "name": "stdout",
     "output_type": "stream",
     "text": [
      "Ok!\n"
     ]
    }
   ],
   "source": [
    "func()"
   ]
  },
  {
   "cell_type": "code",
   "execution_count": null,
   "id": "f103ac57-b9e4-4f88-8c39-b75760d46a3b",
   "metadata": {},
   "outputs": [],
   "source": []
  }
 ],
 "metadata": {
  "kernelspec": {
   "display_name": "Python 3 (ipykernel)",
   "language": "python",
   "name": "python3"
  },
  "language_info": {
   "codemirror_mode": {
    "name": "ipython",
    "version": 3
   },
   "file_extension": ".py",
   "mimetype": "text/x-python",
   "name": "python",
   "nbconvert_exporter": "python",
   "pygments_lexer": "ipython3",
   "version": "3.12.1"
  }
 },
 "nbformat": 4,
 "nbformat_minor": 5
}
