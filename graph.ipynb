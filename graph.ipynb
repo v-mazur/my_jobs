{
 "cells": [
  {
   "cell_type": "markdown",
   "id": "776e6d2e-b265-43a2-a581-1716b9096c0e",
   "metadata": {},
   "source": [
    "# Импорт библиотек"
   ]
  },
  {
   "cell_type": "code",
   "execution_count": 1,
   "id": "b14b42e8-c3c6-4c44-9219-cc6425442f12",
   "metadata": {},
   "outputs": [],
   "source": [
    "import pandas as pd\n",
    "import numpy as np\n",
    "import random\n",
    "import networkx as nx\n",
    "import matplotlib.pyplot as plt"
   ]
  },
  {
   "cell_type": "markdown",
   "id": "edcf97a3-30c5-4bc4-ace1-c69f1fda8943",
   "metadata": {},
   "source": [
    "## Создадим id отправителей"
   ]
  },
  {
   "cell_type": "code",
   "execution_count": 73,
   "id": "ff37e815-eecf-4a6d-8229-78a7a49b6d98",
   "metadata": {},
   "outputs": [],
   "source": [
    "id_sender = []\n",
    "for i in range(0, 100):\n",
    "    id_sender.append(random.randint(100, 10000))"
   ]
  },
  {
   "cell_type": "code",
   "execution_count": 74,
   "id": "92eb0829-562d-4e7e-8a9f-5a98e85b194a",
   "metadata": {},
   "outputs": [
    {
     "data": {
      "text/plain": [
       "[6190, 5775, 8674, 4057]"
      ]
     },
     "execution_count": 74,
     "metadata": {},
     "output_type": "execute_result"
    }
   ],
   "source": [
    "id_sender[1:5]"
   ]
  },
  {
   "cell_type": "markdown",
   "id": "7b3da1a2-18dd-4a56-92c3-0db445eb857e",
   "metadata": {},
   "source": [
    "## Создадим id получателей"
   ]
  },
  {
   "cell_type": "code",
   "execution_count": 75,
   "id": "8e291c60-a3fd-4dd3-ac94-8a9ecb1da4a4",
   "metadata": {},
   "outputs": [],
   "source": [
    "id_receiver_nunique = [123450, 678900, 135790]"
   ]
  },
  {
   "cell_type": "code",
   "execution_count": 76,
   "id": "4bcd974c-7cea-49c8-a609-7213ca2325f5",
   "metadata": {},
   "outputs": [],
   "source": [
    "id_receiver = []\n",
    "for i in range(0, 1000):\n",
    "    res = random.choice(id_receiver_nunique)\n",
    "    id_receiver.append(res)"
   ]
  },
  {
   "cell_type": "code",
   "execution_count": 77,
   "id": "3a71c75b-8673-4223-8f37-99092c4000e0",
   "metadata": {
    "scrolled": true
   },
   "outputs": [
    {
     "data": {
      "text/plain": [
       "1000"
      ]
     },
     "execution_count": 77,
     "metadata": {},
     "output_type": "execute_result"
    }
   ],
   "source": [
    "len(id_receiver)"
   ]
  },
  {
   "cell_type": "markdown",
   "id": "399bb115-ce94-4a14-87dd-63bf28360a05",
   "metadata": {},
   "source": [
    "## Создадим суммы переводов"
   ]
  },
  {
   "cell_type": "code",
   "execution_count": 78,
   "id": "2464aa37-4e07-470a-aba4-fd8bcdec0864",
   "metadata": {},
   "outputs": [],
   "source": [
    "amount = []\n",
    "for i in range(100000):\n",
    "    res = random.uniform(100.5, 1000000)\n",
    "    amount.append(round(res,2))"
   ]
  },
  {
   "cell_type": "markdown",
   "id": "982e3b4c-a5d6-48eb-946b-4cfbf54b2ecb",
   "metadata": {},
   "source": [
    "## Итоговый датафрэйм с операциями"
   ]
  },
  {
   "cell_type": "code",
   "execution_count": 79,
   "id": "82be1c81-42ad-450e-a842-88188b6131d0",
   "metadata": {},
   "outputs": [],
   "source": [
    "list_tuples = list(zip(id_sender, id_receiver, amount))"
   ]
  },
  {
   "cell_type": "code",
   "execution_count": 80,
   "id": "97c33284-0d07-404c-a79d-15cc2fd0499e",
   "metadata": {},
   "outputs": [],
   "source": [
    "df = pd.DataFrame(list_tuples, columns = ['id_sender', 'id_receiver', 'amount'])"
   ]
  },
  {
   "cell_type": "code",
   "execution_count": 81,
   "id": "128e0bfa-9123-46a5-8663-455a3dd518bb",
   "metadata": {},
   "outputs": [
    {
     "data": {
      "text/html": [
       "<div>\n",
       "<style scoped>\n",
       "    .dataframe tbody tr th:only-of-type {\n",
       "        vertical-align: middle;\n",
       "    }\n",
       "\n",
       "    .dataframe tbody tr th {\n",
       "        vertical-align: top;\n",
       "    }\n",
       "\n",
       "    .dataframe thead th {\n",
       "        text-align: right;\n",
       "    }\n",
       "</style>\n",
       "<table border=\"1\" class=\"dataframe\">\n",
       "  <thead>\n",
       "    <tr style=\"text-align: right;\">\n",
       "      <th></th>\n",
       "      <th>id_sender</th>\n",
       "      <th>id_receiver</th>\n",
       "      <th>amount</th>\n",
       "    </tr>\n",
       "  </thead>\n",
       "  <tbody>\n",
       "    <tr>\n",
       "      <th>0</th>\n",
       "      <td>2009</td>\n",
       "      <td>678900</td>\n",
       "      <td>2467.31</td>\n",
       "    </tr>\n",
       "    <tr>\n",
       "      <th>1</th>\n",
       "      <td>6190</td>\n",
       "      <td>123450</td>\n",
       "      <td>291499.20</td>\n",
       "    </tr>\n",
       "    <tr>\n",
       "      <th>2</th>\n",
       "      <td>5775</td>\n",
       "      <td>123450</td>\n",
       "      <td>885564.37</td>\n",
       "    </tr>\n",
       "    <tr>\n",
       "      <th>3</th>\n",
       "      <td>8674</td>\n",
       "      <td>135790</td>\n",
       "      <td>291279.74</td>\n",
       "    </tr>\n",
       "    <tr>\n",
       "      <th>4</th>\n",
       "      <td>4057</td>\n",
       "      <td>135790</td>\n",
       "      <td>394061.11</td>\n",
       "    </tr>\n",
       "    <tr>\n",
       "      <th>...</th>\n",
       "      <td>...</td>\n",
       "      <td>...</td>\n",
       "      <td>...</td>\n",
       "    </tr>\n",
       "    <tr>\n",
       "      <th>95</th>\n",
       "      <td>1512</td>\n",
       "      <td>135790</td>\n",
       "      <td>673155.11</td>\n",
       "    </tr>\n",
       "    <tr>\n",
       "      <th>96</th>\n",
       "      <td>4820</td>\n",
       "      <td>135790</td>\n",
       "      <td>661744.32</td>\n",
       "    </tr>\n",
       "    <tr>\n",
       "      <th>97</th>\n",
       "      <td>5256</td>\n",
       "      <td>678900</td>\n",
       "      <td>868045.36</td>\n",
       "    </tr>\n",
       "    <tr>\n",
       "      <th>98</th>\n",
       "      <td>3263</td>\n",
       "      <td>678900</td>\n",
       "      <td>224292.49</td>\n",
       "    </tr>\n",
       "    <tr>\n",
       "      <th>99</th>\n",
       "      <td>1329</td>\n",
       "      <td>123450</td>\n",
       "      <td>870070.30</td>\n",
       "    </tr>\n",
       "  </tbody>\n",
       "</table>\n",
       "<p>100 rows × 3 columns</p>\n",
       "</div>"
      ],
      "text/plain": [
       "    id_sender  id_receiver     amount\n",
       "0        2009       678900    2467.31\n",
       "1        6190       123450  291499.20\n",
       "2        5775       123450  885564.37\n",
       "3        8674       135790  291279.74\n",
       "4        4057       135790  394061.11\n",
       "..        ...          ...        ...\n",
       "95       1512       135790  673155.11\n",
       "96       4820       135790  661744.32\n",
       "97       5256       678900  868045.36\n",
       "98       3263       678900  224292.49\n",
       "99       1329       123450  870070.30\n",
       "\n",
       "[100 rows x 3 columns]"
      ]
     },
     "execution_count": 81,
     "metadata": {},
     "output_type": "execute_result"
    }
   ],
   "source": [
    "df"
   ]
  },
  {
   "cell_type": "markdown",
   "id": "7d212189-3acd-44bc-a8da-cdb8cb7d3a44",
   "metadata": {},
   "source": [
    "# Приступим к пострению графов"
   ]
  },
  {
   "cell_type": "markdown",
   "id": "aaff99c5-aa95-4f65-89f9-315fab2df877",
   "metadata": {},
   "source": [
    "### Для начала выстроим группирированные данные"
   ]
  },
  {
   "cell_type": "code",
   "execution_count": 82,
   "id": "beeaafff-07cd-48c2-aca2-179e3e28dfb0",
   "metadata": {},
   "outputs": [],
   "source": [
    "df_gr = df.groupby(['id_sender', 'id_receiver'], as_index= False).agg({'amount' : 'sum'})"
   ]
  },
  {
   "cell_type": "code",
   "execution_count": 83,
   "id": "8082d7aa-74f4-49e0-b7b1-d772f1be2ee6",
   "metadata": {},
   "outputs": [
    {
     "data": {
      "text/html": [
       "<div>\n",
       "<style scoped>\n",
       "    .dataframe tbody tr th:only-of-type {\n",
       "        vertical-align: middle;\n",
       "    }\n",
       "\n",
       "    .dataframe tbody tr th {\n",
       "        vertical-align: top;\n",
       "    }\n",
       "\n",
       "    .dataframe thead th {\n",
       "        text-align: right;\n",
       "    }\n",
       "</style>\n",
       "<table border=\"1\" class=\"dataframe\">\n",
       "  <thead>\n",
       "    <tr style=\"text-align: right;\">\n",
       "      <th></th>\n",
       "      <th>id_sender</th>\n",
       "      <th>id_receiver</th>\n",
       "      <th>amount</th>\n",
       "    </tr>\n",
       "  </thead>\n",
       "  <tbody>\n",
       "    <tr>\n",
       "      <th>0</th>\n",
       "      <td>165</td>\n",
       "      <td>135790</td>\n",
       "      <td>639964.11</td>\n",
       "    </tr>\n",
       "    <tr>\n",
       "      <th>1</th>\n",
       "      <td>218</td>\n",
       "      <td>123450</td>\n",
       "      <td>927287.62</td>\n",
       "    </tr>\n",
       "    <tr>\n",
       "      <th>2</th>\n",
       "      <td>265</td>\n",
       "      <td>123450</td>\n",
       "      <td>261152.33</td>\n",
       "    </tr>\n",
       "    <tr>\n",
       "      <th>3</th>\n",
       "      <td>306</td>\n",
       "      <td>123450</td>\n",
       "      <td>410957.93</td>\n",
       "    </tr>\n",
       "    <tr>\n",
       "      <th>4</th>\n",
       "      <td>417</td>\n",
       "      <td>135790</td>\n",
       "      <td>603536.02</td>\n",
       "    </tr>\n",
       "    <tr>\n",
       "      <th>...</th>\n",
       "      <td>...</td>\n",
       "      <td>...</td>\n",
       "      <td>...</td>\n",
       "    </tr>\n",
       "    <tr>\n",
       "      <th>95</th>\n",
       "      <td>9675</td>\n",
       "      <td>123450</td>\n",
       "      <td>552876.32</td>\n",
       "    </tr>\n",
       "    <tr>\n",
       "      <th>96</th>\n",
       "      <td>9704</td>\n",
       "      <td>123450</td>\n",
       "      <td>555289.26</td>\n",
       "    </tr>\n",
       "    <tr>\n",
       "      <th>97</th>\n",
       "      <td>9704</td>\n",
       "      <td>135790</td>\n",
       "      <td>852987.59</td>\n",
       "    </tr>\n",
       "    <tr>\n",
       "      <th>98</th>\n",
       "      <td>9744</td>\n",
       "      <td>123450</td>\n",
       "      <td>812085.37</td>\n",
       "    </tr>\n",
       "    <tr>\n",
       "      <th>99</th>\n",
       "      <td>9903</td>\n",
       "      <td>123450</td>\n",
       "      <td>546547.64</td>\n",
       "    </tr>\n",
       "  </tbody>\n",
       "</table>\n",
       "<p>100 rows × 3 columns</p>\n",
       "</div>"
      ],
      "text/plain": [
       "    id_sender  id_receiver     amount\n",
       "0         165       135790  639964.11\n",
       "1         218       123450  927287.62\n",
       "2         265       123450  261152.33\n",
       "3         306       123450  410957.93\n",
       "4         417       135790  603536.02\n",
       "..        ...          ...        ...\n",
       "95       9675       123450  552876.32\n",
       "96       9704       123450  555289.26\n",
       "97       9704       135790  852987.59\n",
       "98       9744       123450  812085.37\n",
       "99       9903       123450  546547.64\n",
       "\n",
       "[100 rows x 3 columns]"
      ]
     },
     "execution_count": 83,
     "metadata": {},
     "output_type": "execute_result"
    }
   ],
   "source": [
    "df_gr"
   ]
  },
  {
   "cell_type": "code",
   "execution_count": 84,
   "id": "caee025b-a973-4db5-925c-228bdd013c61",
   "metadata": {},
   "outputs": [],
   "source": [
    "G = nx.MultiDiGraph()"
   ]
  },
  {
   "cell_type": "code",
   "execution_count": 85,
   "id": "5c4aac9f-8b12-4886-8bdc-48e003ad89c1",
   "metadata": {},
   "outputs": [],
   "source": [
    "for index, key in enumerate(df_gr['amount']):\n",
    "    G.add_edge(df_gr['id_sender'][index],\n",
    "              df_gr['id_receiver'][index],\n",
    "              df_gr['amount'][index])"
   ]
  },
  {
   "cell_type": "code",
   "execution_count": 86,
   "id": "8a4beb39-264e-40d3-9d60-1d8bbfff8f6f",
   "metadata": {
    "scrolled": true
   },
   "outputs": [
    {
     "data": {
      "text/plain": [
       "102"
      ]
     },
     "execution_count": 86,
     "metadata": {},
     "output_type": "execute_result"
    }
   ],
   "source": [
    "len(G.nodes)"
   ]
  },
  {
   "cell_type": "code",
   "execution_count": 87,
   "id": "74c62b9b-b481-4c0a-a15a-8238c2eff4ee",
   "metadata": {},
   "outputs": [
    {
     "data": {
      "text/plain": [
       "100"
      ]
     },
     "execution_count": 87,
     "metadata": {},
     "output_type": "execute_result"
    }
   ],
   "source": [
    "len(G.edges)"
   ]
  },
  {
   "cell_type": "code",
   "execution_count": 88,
   "id": "152b70f0-3439-49e0-9e11-6ca2624be2fc",
   "metadata": {},
   "outputs": [
    {
     "data": {
      "image/png": "[encoded data removed]",
      "text/plain": [
       "<Figure size 640x480 with 1 Axes>"
      ]
     },
     "metadata": {},
     "output_type": "display_data"
    }
   ],
   "source": [
    "nx.draw(G)"
   ]
  },
  {
   "cell_type": "markdown",
   "id": "0c5bc945-7579-429d-b47e-bccc946a3713",
   "metadata": {},
   "source": [
    "# Как мывидим, граф получился не очень информативен. Добавим в него опции для нормального отображения"
   ]
  },
  {
   "cell_type": "markdown",
   "id": "84d5759a-84b2-487f-b50f-cc50a04d885d",
   "metadata": {},
   "source": [
    "### Разделим по цветам (получаетль - красный, отправитель - голубой)"
   ]
  },
  {
   "cell_type": "code",
   "execution_count": 89,
   "id": "b754adff-0316-41a0-811d-158495946ffc",
   "metadata": {},
   "outputs": [
    {
     "data": {
      "text/plain": [
       "Index(['id_sender', 'id_receiver', 'amount'], dtype='object')"
      ]
     },
     "execution_count": 89,
     "metadata": {},
     "output_type": "execute_result"
    }
   ],
   "source": [
    "df_gr.columns"
   ]
  },
  {
   "cell_type": "code",
   "execution_count": 90,
   "id": "daf3d71f-3263-4fcd-ab75-f780a8454c5e",
   "metadata": {},
   "outputs": [],
   "source": [
    "node_colors_dict = {}\n",
    "for index, id in enumerate(df_gr['id_sender']):\n",
    "    node_colors_dict[id] = 'blue' \n",
    "\n",
    "for index, id in enumerate(df_gr['id_receiver']):\n",
    "    node_colors_dict[id] = 'red'"
   ]
  },
  {
   "cell_type": "markdown",
   "id": "521dc340-1b22-45fa-96e2-8a7901c9021b",
   "metadata": {},
   "source": [
    "### Разделим по Размеру (получаетль - 400, отправитель - 300)"
   ]
  },
  {
   "cell_type": "code",
   "execution_count": 91,
   "id": "9a86d73b-d573-459b-a336-5df244aefcc3",
   "metadata": {},
   "outputs": [],
   "source": [
    "node_size_dict = {}\n",
    "for index, id in enumerate(df_gr['id_sender']):\n",
    "    node_size_dict[id] = 10\n",
    "\n",
    "for index, id in enumerate(df_gr['id_receiver']):\n",
    "    node_size_dict[id] = 300"
   ]
  },
  {
   "cell_type": "markdown",
   "id": "c40b4653-62e9-4275-b5e3-73b088afdf4c",
   "metadata": {},
   "source": [
    "### Размер ребер"
   ]
  },
  {
   "cell_type": "code",
   "execution_count": 93,
   "id": "1529edff-2972-49ea-81f5-ceddfe63c9bf",
   "metadata": {},
   "outputs": [
    {
     "data": {
      "text/plain": [
       "0.0      2467.310\n",
       "0.2    258398.178\n",
       "0.4    411398.396\n",
       "0.6    607754.820\n",
       "0.8    812149.074\n",
       "1.0    983603.360\n",
       "Name: amount, dtype: float64"
      ]
     },
     "execution_count": 93,
     "metadata": {},
     "output_type": "execute_result"
    }
   ],
   "source": [
    "df_gr.amount.quantile([0, 0.2, 0.4, 0.6, 0.8, 1])"
   ]
  },
  {
   "cell_type": "code",
   "execution_count": 95,
   "id": "d9f4c371-32b6-4a11-95f3-3c4c3e303838",
   "metadata": {},
   "outputs": [],
   "source": [
    "def get_edge_size(sum):\n",
    "    if sum <= df_gr.amount.quantile(0):\n",
    "        return 0.1\n",
    "    elif df_gr.amount.quantile(0) < sum <= df_gr.amount.quantile(1):\n",
    "        return 0.3\n",
    "    elif df_gr.amount.quantile(1) < sum <= df_gr.amount.quantile(2):\n",
    "        return 0.5\n",
    "    elif df_gr.amount.quantile(2) < sum <= df_gr.amount.quantile(3):\n",
    "        return 1\n",
    "    elif df_gr.amount.quantile(3) < sum <= df_gr.amount.quantile(4):\n",
    "        return 2\n",
    "    elif df_gr.amount.quantile(4) < sum <= df_gr.amount.quantile(5):\n",
    "        return 3\n",
    "    else:\n",
    "        return 5"
   ]
  },
  {
   "cell_type": "code",
   "execution_count": 96,
   "id": "b7e13d4c-bb41-4246-89d9-0045fc78409b",
   "metadata": {},
   "outputs": [
    {
     "data": {
      "text/plain": [
       "Index(['id_sender', 'id_receiver', 'amount'], dtype='object')"
      ]
     },
     "execution_count": 96,
     "metadata": {},
     "output_type": "execute_result"
    }
   ],
   "source": [
    "df_gr.columns"
   ]
  },
  {
   "cell_type": "code",
   "execution_count": 97,
   "id": "5c22e9b0-cf3c-4d7f-918b-3c1b9331b38e",
   "metadata": {},
   "outputs": [],
   "source": [
    "edge_sizes_dict = {}\n",
    "for index, val in enumerate(df_gr['amount']):\n",
    "    edge_sizes_dict[(df_gr.id_sender[index], df_gr.id_receiver[index], df_gr.amount[index])] = get_edge_size(val)"
   ]
  },
  {
   "cell_type": "markdown",
   "id": "4436eaea-4bfa-475b-8ae5-3212117bbccc",
   "metadata": {},
   "source": [
    "### Подписи к узлам:"
   ]
  },
  {
   "cell_type": "code",
   "execution_count": 111,
   "id": "4b2b4844-ad08-4414-948c-0bd13e1d7592",
   "metadata": {},
   "outputs": [],
   "source": [
    "labels_name = {}\n",
    "for index, id in enumerate(df_gr['id_sender']):\n",
    "    labels_name[df_gr.id_sender[index]] = df_gr.id_sender[index]\n",
    "for index, id in enumerate(df_gr['id_receiver']):    \n",
    "    labels_name[df_gr.id_receiver[index]] = df_gr.id_receiver[index]\n",
    "\n",
    "    # в данном случае нет необходимости (на случай если необходимо испрпаить подпись не как названа нода)"
   ]
  },
  {
   "cell_type": "markdown",
   "id": "9bbff4b8-a046-4479-acac-f9047dc525f5",
   "metadata": {},
   "source": [
    "## Запишем все показатели в списки"
   ]
  },
  {
   "cell_type": "code",
   "execution_count": 99,
   "id": "97bf8710-2cf4-47f5-b0cb-eb212ba07411",
   "metadata": {},
   "outputs": [],
   "source": [
    "node_colors_list = []\n",
    "node_size_list = []\n",
    "edge_size_list = []\n",
    "nodelabels = {}\n",
    "\n",
    "for node in G.nodes:\n",
    "    node_colors_list.append(node_colors_dict[node])\n",
    "    node_size_list.append(node_size_dict[node])\n",
    "    nodelabels[node] = labels_name\n",
    "\n",
    "for edge in G.edges:\n",
    "    edge_size_list.append(edge_sizes_dict[edge])"
   ]
  },
  {
   "cell_type": "code",
   "execution_count": 100,
   "id": "ca4a342a-3b35-48ef-b011-545e400dce8f",
   "metadata": {},
   "outputs": [
    {
     "data": {
      "text/plain": [
       "<Figure size 17500x11500 with 0 Axes>"
      ]
     },
     "metadata": {},
     "output_type": "display_data"
    }
   ],
   "source": [
    "f = plt.figure(figsize = (175, 115))"
   ]
  },
  {
   "cell_type": "markdown",
   "id": "f8703c2a-3980-4a16-88f6-f9040a78ef86",
   "metadata": {},
   "source": [
    "# Строим граф"
   ]
  },
  {
   "cell_type": "code",
   "execution_count": 119,
   "id": "68714da9-b701-4d7d-b751-6d3d56f6f863",
   "metadata": {},
   "outputs": [
    {
     "data": {
      "image/png": "[encoded data removed]",
      "text/plain": [
       "<Figure size 640x480 with 1 Axes>"
      ]
     },
     "metadata": {},
     "output_type": "display_data"
    }
   ],
   "source": [
    "nx.draw(G,\n",
    "       node_color = node_colors_list, # цвет узлов\n",
    "       node_size = node_size_list, # размер узлов\n",
    "       width = edge_size_list, #размер ребер\n",
    "       with_labels = True, # чтобы подпись была\n",
    "       font_size = 3, #размер подписи\n",
    "       )"
   ]
  },
  {
   "cell_type": "code",
   "execution_count": null,
   "id": "2731b78d-3cbe-4cee-910a-2ea7b421bea0",
   "metadata": {},
   "outputs": [],
   "source": []
  }
 ],
 "metadata": {
  "kernelspec": {
   "display_name": "Python 3 (ipykernel)",
   "language": "python",
   "name": "python3"
  },
  "language_info": {
   "codemirror_mode": {
    "name": "ipython",
    "version": 3
   },
   "file_extension": ".py",
   "mimetype": "text/x-python",
   "name": "python",
   "nbconvert_exporter": "python",
   "pygments_lexer": "ipython3",
   "version": "3.12.1"
  }
 },
 "nbformat": 4,
 "nbformat_minor": 5
}
