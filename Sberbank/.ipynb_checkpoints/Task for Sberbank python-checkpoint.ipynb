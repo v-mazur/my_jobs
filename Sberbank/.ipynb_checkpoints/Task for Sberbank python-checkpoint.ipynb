{
 "cells": [
  {
   "cell_type": "markdown",
   "id": "6e22964f",
   "metadata": {},
   "source": [
    "Задача №1. Ваша задача — построить модель[1] , которая может предсказывать координату y.\n",
    "Вы можете пройти тесты, если прогнозируемые координаты y находятся в пределах погрешности.\n",
    "\n",
    "Вы получите комплект train, который нужно использовать для сборки модели.\n",
    "После того, как вы создадите модель, тесты будут вызывать функцию predict и передавать ей x.\n",
    "\n",
    "Ошибка будет рассчитана с помощью RMSE .\n",
    "Нельзя использовать библиотеки: sklearn, pandas, tensorflow, numpy, scipy\n",
    "example_train_set = [(0, 1),\n",
    "    (2, 2),\n",
    "    (4, 3),\n",
    "    (9, 8),\n",
    "    (3, 5)]\n"
   ]
  },
  {
   "cell_type": "code",
   "execution_count": 1,
   "id": "d6898567",
   "metadata": {},
   "outputs": [],
   "source": [
    "def predict (x):\n",
    "    \n",
    "    # Запишем данные\n",
    "    \n",
    "    example_train_set = [(0, 1),\n",
    "    (2, 2),\n",
    "    (4, 3),\n",
    "    (9, 8),\n",
    "    (3, 5)]\n",
    "\n",
    "    x_test = []\n",
    "    y_test = []\n",
    "    for i in example_train_set:\n",
    "        x_test.append(i[0])\n",
    "        y_test.append(i[1])\n",
    "    \n",
    "    def Kramer_method (x_test, y_test):\n",
    "            # сумма значений x\n",
    "        sx = sum(x_test)\n",
    "            # сумма значений y\n",
    "        sy = sum(y_test)\n",
    "            # сумма произведения значений\n",
    "        list_xy = []\n",
    "        [list_xy.append(x_test[i]*y_test[i]) for i in range(len(x_test))]\n",
    "        sxy = sum(list_xy)\n",
    "            # сумма квадратов значений\n",
    "        list_x_sq = []\n",
    "        [list_x_sq.append(x_test[i]**2) for i in range(len(x_test))]\n",
    "        sx_sq = sum(list_x_sq)\n",
    "            # количество значений\n",
    "        n = len(x_test)\n",
    "            # общий определитель\n",
    "        det = sx_sq*n - sx*sx\n",
    "            # определитель по a\n",
    "        det_a = sx_sq*sy - sx*sxy\n",
    "            # искомый параметр a\n",
    "        a = (det_a / det)\n",
    "            # определитель по b\n",
    "        det_b = sxy*n - sy*sx\n",
    "            # искомый параметр b\n",
    "        b = (det_b / det)\n",
    "            # контрольные значения (прооверка)\n",
    "        check1 = (n*b + a*sx - sy)\n",
    "        check2 = (b*sx + a*sx_sq - sxy)\n",
    "        return [round(a,4), round(b,4)]\n",
    "\n",
    "    # запустим функцию Kramer_method и запишем a и b\n",
    "    ab_us = Kramer_method(x_test, y_test)\n",
    "    a_us = ab_us[0]\n",
    "    b_us = ab_us[1]\n",
    "    \n",
    "    def errors_sq_Kramer_method(answers,x_test,y_test): # Определим ошибку\n",
    "        list_errors_sq = []\n",
    "        for i in range(len(x)):\n",
    "            err = round((answers[0] + answers[1]*x[i] - y[i])**2, 3)\n",
    "            list_errors_sq.append(err)\n",
    "        return sum(list_errors_sq)\n",
    "    \n",
    "    y = a_us + b_us*x\n",
    "    \n",
    "    return round(y,3)\n",
    "    "
   ]
  },
  {
   "cell_type": "code",
   "execution_count": 2,
   "id": "380287f7",
   "metadata": {},
   "outputs": [
    {
     "data": {
      "text/plain": [
       "8.699"
      ]
     },
     "execution_count": 2,
     "metadata": {},
     "output_type": "execute_result"
    }
   ],
   "source": [
    "# Проверяем, что все работает\n",
    "predict (10)"
   ]
  },
  {
   "cell_type": "markdown",
   "id": "905034b7",
   "metadata": {},
   "source": [
    "Задача №2. Простое число-близнец — это простое число, которое отличается от другого простого числа на 2. Напишите функцию с именем prime, которая принимает int параметр и возвращает значение true, если оно является простым числом-близнецом, иначе false.\n",
    "\n",
    "Примеры\n",
    "\n",
    "5- простое число\n",
    "\n",
    "5 + 2 = 7, тоже простое\n",
    "\n",
    "5 - 2 = 3, тоже простое\n",
    "\n",
    "Тогда 5 – число близнец\n"
   ]
  },
  {
   "cell_type": "code",
   "execution_count": 6,
   "id": "c8908fa6",
   "metadata": {},
   "outputs": [],
   "source": [
    "# Вообще, насколько мне известно, числа-близнецы это (3,5), (3,7) и т.д. \n",
    "#Но согласно заданию, это те числа, которые +/- 2 дают простое, отсюда и моя функция.\n",
    "\n",
    "\n",
    "def prime(vvod):\n",
    "    if vvod > 2:\n",
    "        c = 0\n",
    "        k = 0\n",
    "        for i in range(2, vvod):\n",
    "            if (vvod % i == 0):\n",
    "                c = c+1\n",
    "        if (c <= 0):\n",
    "            for b in range(2, (vvod + 2)):\n",
    "                if ((vvod - 2) % b == 0):\n",
    "                    k = k + 1\n",
    "                if (k <= 0):\n",
    "                    if ((vvod + 2) % b == 0):\n",
    "                        k = k + 1      \n",
    "            if (k <= 1):\n",
    "                res = \"True\"\n",
    "            else:\n",
    "                res = 'False'\n",
    "        else:\n",
    "            res = \"False\"\n",
    "    else:\n",
    "            res = 'False'\n",
    "        \n",
    "    return res"
   ]
  },
  {
   "cell_type": "code",
   "execution_count": 9,
   "id": "d6e8de1b",
   "metadata": {},
   "outputs": [
    {
     "name": "stdout",
     "output_type": "stream",
     "text": [
      "Введите число: 5\n"
     ]
    },
    {
     "data": {
      "text/plain": [
       "'True'"
      ]
     },
     "execution_count": 9,
     "metadata": {},
     "output_type": "execute_result"
    }
   ],
   "source": [
    "vvod = int(input(\"Введите число: \"))\n",
    "prime(vvod) # Проверка работоспосбности"
   ]
  },
  {
   "cell_type": "markdown",
   "id": "05822a72",
   "metadata": {},
   "source": [
    "Задача № 3. Целочисленное разделение n представляет собой слабо убывающий список положительных целых чисел, сумма которых равна n.\n",
    "\n",
    "Например, есть 3 целочисленных разделов по 3:\n",
    "\n",
    "[3], [2,1], [1,1,1].\n",
    "\n",
    "Напишите функцию, которая возвращает количество целочисленных разделов n. Функция должна уметь находить количество целочисленных разделов n менее 100.\n"
   ]
  },
  {
   "cell_type": "code",
   "execution_count": 10,
   "id": "1ba197ee",
   "metadata": {},
   "outputs": [],
   "source": [
    "def partitions(n):\n",
    "    parts = [1]+[0]*n\n",
    "    for t in range(1, n+1):\n",
    "        for i, x in enumerate(range(t, n+1)):\n",
    "            parts[x] += parts[i]\n",
    "        \n",
    "    if parts[n] > 100:\n",
    "        print ('Больше 100, выводить, согласно ТЗ, нельзя')\n",
    "    else:\n",
    "        print (parts[n])"
   ]
  },
  {
   "cell_type": "code",
   "execution_count": 11,
   "id": "9f6f4c45",
   "metadata": {},
   "outputs": [
    {
     "name": "stdout",
     "output_type": "stream",
     "text": [
      "3\n"
     ]
    }
   ],
   "source": [
    "# Проверка работоспособности\n",
    "partitions(3)"
   ]
  },
  {
   "cell_type": "code",
   "execution_count": null,
   "id": "c50c604f",
   "metadata": {},
   "outputs": [],
   "source": []
  }
 ],
 "metadata": {
  "kernelspec": {
   "display_name": "Python 3 (ipykernel)",
   "language": "python",
   "name": "python3"
  },
  "language_info": {
   "codemirror_mode": {
    "name": "ipython",
    "version": 3
   },
   "file_extension": ".py",
   "mimetype": "text/x-python",
   "name": "python",
   "nbconvert_exporter": "python",
   "pygments_lexer": "ipython3",
   "version": "3.9.13"
  }
 },
 "nbformat": 4,
 "nbformat_minor": 5
}
