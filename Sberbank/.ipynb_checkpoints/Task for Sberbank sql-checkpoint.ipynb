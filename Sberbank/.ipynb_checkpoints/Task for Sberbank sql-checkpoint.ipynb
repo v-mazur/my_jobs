{
 "cells": [
  {
   "cell_type": "markdown",
   "id": "940e038f",
   "metadata": {},
   "source": [
    "Задача №1. Вам нужно создать оператор выбора, который выдаст первые 90 чисел Фибоначчи.\n",
    "Имя столбца -number\n",
    "Последовательность Фиббоначчи:\n",
    " 0, 1, 1, 2, 3, 5, 8, 13, ..., 89, 144, 233, 377, ..."
   ]
  },
  {
   "cell_type": "code",
   "execution_count": null,
   "id": "1f9c182f",
   "metadata": {},
   "outputs": [],
   "source": [
    "with recursive fibonachi as (\n",
    "select cast (0 as bigint) as a, cast (1 as bigint) as b\n",
    "union all\n",
    "select b as a, a+b from fibonachi where a < 1700000000000000000) select a as number from fibonachi\n"
   ]
  },
  {
   "cell_type": "markdown",
   "id": "2286090f",
   "metadata": {},
   "source": [
    "Задача №2. Вы будете использовать таблицу людей, но сосредоточитесь исключительно на name столбце\n",
    "name\n",
    "Васильев Петр Генадьевич\n",
    "Греф Герман Оскарович\n",
    "\n",
    "Вам будет предоставлено полное имя, и вы должны вернуть имя в столбцах следующим образом:\n",
    "\n",
    "Имя - Фамилия - Отчество"
   ]
  },
  {
   "cell_type": "code",
   "execution_count": null,
   "id": "e62fba9e",
   "metadata": {},
   "outputs": [],
   "source": [
    "select split_part(name, ' ', 2)as Имя,\n",
    "    split_part(name, ' ', 1) as Фамилия,\n",
    "    split_part(name,' ', 3) as Отчество\n",
    "from table\n",
    "\n",
    "\n",
    "P.s. в MS SQL используется SUBSTRING Имя = SUBSTRING_INDEX(name, ' ', 2),\n",
    "Фамилия = SUBSTRING_INDEX(name, ' ', 1),\n",
    "Отчество = SUBSTRING_INDEX(name, ' ', 3)"
   ]
  },
  {
   "cell_type": "markdown",
   "id": "30dbd67b",
   "metadata": {},
   "source": [
    "Задача №3. Для этой задачи вам нужно создать простой оператор SELECT, который вернет все столбцы из people таблицы, и присоединиться к sales таблице, чтобы вы могли вернуть COUNT всех продаж и ранжировать каждого человека по их количеству продаж.\n",
    "\n",
    "Таблица people\n",
    "id\n",
    "name\n",
    "\n",
    "\n",
    "Таблица sales\n",
    "id\n",
    "people_id\n",
    "sale\n",
    "price\n",
    "\n",
    "Вы должны вернуть все поля людей, а также количество продаж как «sale_count» и рейтинг как «sale_rank»."
   ]
  },
  {
   "cell_type": "code",
   "execution_count": null,
   "id": "46afc451",
   "metadata": {},
   "outputs": [],
   "source": [
    "select id, sale_count, rank () over ( order by sale_count) as sale_rank\n",
    "from(\n",
    "    select id, count(sale) as sale_count\n",
    "    from ( select * from people as L\n",
    "  join ( select id, people_id, sale from sales) as R\n",
    "using (id)) as table_union\n",
    "group by id) as table_ready"
   ]
  }
 ],
 "metadata": {
  "kernelspec": {
   "display_name": "Python 3 (ipykernel)",
   "language": "python",
   "name": "python3"
  },
  "language_info": {
   "codemirror_mode": {
    "name": "ipython",
    "version": 3
   },
   "file_extension": ".py",
   "mimetype": "text/x-python",
   "name": "python",
   "nbconvert_exporter": "python",
   "pygments_lexer": "ipython3",
   "version": "3.9.13"
  }
 },
 "nbformat": 4,
 "nbformat_minor": 5
}
