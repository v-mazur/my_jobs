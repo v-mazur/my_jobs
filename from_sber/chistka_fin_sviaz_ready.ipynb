{
 "cells": [
  {
   "cell_type": "markdown",
   "id": "5a35a7ab-bc9c-45cc-8742-bba03a6ef92d",
   "metadata": {},
   "source": [
    "# Импорт библиотек"
   ]
  },
  {
   "cell_type": "code",
   "execution_count": 1,
   "id": "0d61ba7c-f3f1-4527-b44a-b7f6d0238d10",
   "metadata": {},
   "outputs": [],
   "source": [
    "import pandas as pd\n",
    "import numpy as np\n",
    "import random\n",
    "import datetime"
   ]
  },
  {
   "cell_type": "markdown",
   "id": "75bae835-c67c-4c65-ae82-e1044eb088b5",
   "metadata": {},
   "source": [
    "# Создадим датафрэйм с переводами"
   ]
  },
  {
   "cell_type": "markdown",
   "id": "0983a6b7-fcd5-4915-bdf9-56aaf092ae57",
   "metadata": {},
   "source": [
    "## Создадим id отправителей"
   ]
  },
  {
   "cell_type": "code",
   "execution_count": 3,
   "id": "0db3154d-50db-4b68-8b3f-33390efdcd99",
   "metadata": {},
   "outputs": [],
   "source": [
    "id_sender = []\n",
    "for i in range(0, 100000):\n",
    "    id_sender.append(random.randint(1000, 10000))"
   ]
  },
  {
   "cell_type": "markdown",
   "id": "ed5a8796-ee71-44ce-b3a9-89c38d8bd676",
   "metadata": {},
   "source": [
    "## Создадим id получателей"
   ]
  },
  {
   "cell_type": "code",
   "execution_count": 4,
   "id": "bee1b180-7829-402c-9146-a92255b15000",
   "metadata": {},
   "outputs": [],
   "source": [
    "id_receiver = []\n",
    "for i in range(0, 100000):\n",
    "    id_receiver.append(random.randint(1000, 10000))"
   ]
  },
  {
   "cell_type": "markdown",
   "id": "066c56fc-0525-4859-aa4a-b322f41209e7",
   "metadata": {},
   "source": [
    "## Создадим суммы переводов"
   ]
  },
  {
   "cell_type": "code",
   "execution_count": 12,
   "id": "9a4ed7af-c4c7-4759-b17b-5354cf9bd371",
   "metadata": {},
   "outputs": [],
   "source": [
    "amount = []\n",
    "for i in range(100000):\n",
    "    res = random.uniform(100.5, 1000000)\n",
    "    amount.append(round(res,2))"
   ]
  },
  {
   "cell_type": "markdown",
   "id": "90aea5d9-ca34-40aa-b008-cdc8be6bbedc",
   "metadata": {},
   "source": [
    "## Создадим период операций"
   ]
  },
  {
   "cell_type": "code",
   "execution_count": 17,
   "id": "8db002f5-9b2f-4cfe-84dc-e5b8dc80731c",
   "metadata": {},
   "outputs": [],
   "source": [
    "dates = []\n",
    "for i in range(100000):\n",
    "    year = random.randint(2023, 2024)\n",
    "    month = random.randint(1, 12)\n",
    "    day = random.randint(1, 31)\n",
    "    try:\n",
    "        date = datetime.date(year, month, day)\n",
    "    except ValueError:\n",
    "        day = 28 #учтем, что не во всех месяцах есть 31 число, а в феврале только 28 дней (поэтому указываем min = 28)\n",
    "        date = datetime.date(year, month, day)\n",
    "    dates.append(date)"
   ]
  },
  {
   "cell_type": "markdown",
   "id": "fba9f542-074c-4562-8680-2e0f9fa084a6",
   "metadata": {},
   "source": [
    "## Итоговый датафрэйм с операциями"
   ]
  },
  {
   "cell_type": "code",
   "execution_count": 18,
   "id": "bd2835e6-6b8a-4f2d-80f9-ba12a06cde8d",
   "metadata": {},
   "outputs": [],
   "source": [
    "list_tuples = list(zip(id_sender, id_receiver, dates, amount)) "
   ]
  },
  {
   "cell_type": "code",
   "execution_count": 19,
   "id": "7aa6cc16-74f0-4a43-8ce2-3220b272fb7f",
   "metadata": {},
   "outputs": [],
   "source": [
    "df = pd.DataFrame(list_tuples, columns = ['id_sender', 'id_receiver', 'dates', 'amount_new'])"
   ]
  },
  {
   "cell_type": "markdown",
   "id": "edd12e2e-a130-4d83-9c76-5918a9370a0c",
   "metadata": {},
   "source": [
    "# Создадим датафрйэм с отправителями в интересующий нас день (например, выдачи денежных средств)"
   ]
  },
  {
   "cell_type": "markdown",
   "id": "176fbe09-ecbe-4279-b3ee-c5d96b0cbb6f",
   "metadata": {},
   "source": [
    "## Оставим только id_sender из предыдущего датафрэйма"
   ]
  },
  {
   "cell_type": "code",
   "execution_count": 21,
   "id": "ba523101-5484-40fe-a318-d119c726bf0d",
   "metadata": {},
   "outputs": [],
   "source": [
    "df_first = df[['id_sender']].drop_duplicates().reset_index().drop(columns = 'index')"
   ]
  },
  {
   "cell_type": "markdown",
   "id": "73bcd355-f456-4517-bfd0-0e0517a6aa80",
   "metadata": {},
   "source": [
    "## Создадим даты выдачи средств"
   ]
  },
  {
   "cell_type": "code",
   "execution_count": 22,
   "id": "7cf12752-212a-4fa0-a4d0-fddd0d90851d",
   "metadata": {},
   "outputs": [],
   "source": [
    "dates_cred = []\n",
    "for i in range(len(df_first)):\n",
    "    year = random.randint(2023, 2024)\n",
    "    month = random.randint(1, 12)\n",
    "    day = random.randint(1, 31)\n",
    "    try:\n",
    "        date = datetime.date(year, month, day)\n",
    "    except ValueError:\n",
    "        day = 28\n",
    "        date = datetime.date(year, month, day)\n",
    "    dates_cred.append(date)"
   ]
  },
  {
   "cell_type": "markdown",
   "id": "4d7405e9-5166-42bc-9f71-5a7f05be76da",
   "metadata": {},
   "source": [
    "## Итоговый файл"
   ]
  },
  {
   "cell_type": "code",
   "execution_count": 23,
   "id": "531dcd57-1764-4195-b382-6e93a04ca9b7",
   "metadata": {},
   "outputs": [],
   "source": [
    "df_first['date_cred'] = dates_cred"
   ]
  },
  {
   "cell_type": "markdown",
   "id": "fd889926-4610-4ece-b558-4eb1bc18cf89",
   "metadata": {},
   "source": [
    "# Итак, у нас есть файл с переводами и изначальный файл с отправителями с интрсующим нас днем. Произведем очистку фин связей\n",
    "## Под очисткой фин связи будем понимать следующее: пусть интерсующий нас  день - это Т. Отправитель мог направить мошенникам деньги за период Т-1 и Т+7. При этом, чтобы вывести именно мошенников, необходимо в этом периоде убрать тех получателей, которым отправитель переводил до этого периода и после (вряд ли они были знакомы и вряд ли подружились после обмана)"
   ]
  },
  {
   "cell_type": "markdown",
   "id": "21ccdf70-6f3b-42de-820d-822f159b0dde",
   "metadata": {},
   "source": [
    "### Вычислим период между операцией и нужной нам датой"
   ]
  },
  {
   "cell_type": "code",
   "execution_count": 34,
   "id": "e52a89a7-f95a-4b90-97c4-514d5a4e05b2",
   "metadata": {},
   "outputs": [],
   "source": [
    "mer = df.merge(df_first, on = 'id_sender', how = 'left')"
   ]
  },
  {
   "cell_type": "code",
   "execution_count": 35,
   "id": "b274ecaf-c0b7-4faa-9b76-1255e49f1f8f",
   "metadata": {},
   "outputs": [],
   "source": [
    "mer['diff_time'] = mer['dates'] - mer['date_cred']"
   ]
  },
  {
   "cell_type": "code",
   "execution_count": 36,
   "id": "20b44fcf-5873-45c1-9bd3-64d83ef5e69a",
   "metadata": {},
   "outputs": [],
   "source": [
    "mer['diff_time'] = mer['diff_time'].astype(str)\n",
    "mer['diff_time'] = mer['diff_time'].apply(lambda x: x.split(' ')[0])\n",
    "# если данные станут '0:00:00', то заменим их на ноль\n",
    "mer['diff_time'] = mer['diff_time'].apply(lambda x: x.replace('0:00:00', '0'))\n",
    "mer['diff_time'] = mer['diff_time'].astype(int)"
   ]
  },
  {
   "cell_type": "code",
   "execution_count": 37,
   "id": "5a04cb09-f1d5-42ac-a35b-ed22398a6350",
   "metadata": {},
   "outputs": [
    {
     "data": {
      "text/html": [
       "<div>\n",
       "<style scoped>\n",
       "    .dataframe tbody tr th:only-of-type {\n",
       "        vertical-align: middle;\n",
       "    }\n",
       "\n",
       "    .dataframe tbody tr th {\n",
       "        vertical-align: top;\n",
       "    }\n",
       "\n",
       "    .dataframe thead th {\n",
       "        text-align: right;\n",
       "    }\n",
       "</style>\n",
       "<table border=\"1\" class=\"dataframe\">\n",
       "  <thead>\n",
       "    <tr style=\"text-align: right;\">\n",
       "      <th></th>\n",
       "      <th>id_sender</th>\n",
       "      <th>id_receiver</th>\n",
       "      <th>dates</th>\n",
       "      <th>amount_new</th>\n",
       "      <th>date_cred</th>\n",
       "      <th>diff_time</th>\n",
       "    </tr>\n",
       "  </thead>\n",
       "  <tbody>\n",
       "    <tr>\n",
       "      <th>0</th>\n",
       "      <td>3684</td>\n",
       "      <td>4676</td>\n",
       "      <td>2023-03-14</td>\n",
       "      <td>253006.18</td>\n",
       "      <td>2024-07-28</td>\n",
       "      <td>-502</td>\n",
       "    </tr>\n",
       "    <tr>\n",
       "      <th>1</th>\n",
       "      <td>9825</td>\n",
       "      <td>8146</td>\n",
       "      <td>2023-12-18</td>\n",
       "      <td>295802.95</td>\n",
       "      <td>2024-07-10</td>\n",
       "      <td>-205</td>\n",
       "    </tr>\n",
       "    <tr>\n",
       "      <th>2</th>\n",
       "      <td>1156</td>\n",
       "      <td>5379</td>\n",
       "      <td>2023-03-09</td>\n",
       "      <td>635643.48</td>\n",
       "      <td>2023-07-30</td>\n",
       "      <td>-143</td>\n",
       "    </tr>\n",
       "    <tr>\n",
       "      <th>3</th>\n",
       "      <td>1263</td>\n",
       "      <td>3873</td>\n",
       "      <td>2023-09-09</td>\n",
       "      <td>511433.55</td>\n",
       "      <td>2024-12-16</td>\n",
       "      <td>-464</td>\n",
       "    </tr>\n",
       "    <tr>\n",
       "      <th>4</th>\n",
       "      <td>1702</td>\n",
       "      <td>9413</td>\n",
       "      <td>2023-07-11</td>\n",
       "      <td>165855.39</td>\n",
       "      <td>2023-05-29</td>\n",
       "      <td>43</td>\n",
       "    </tr>\n",
       "    <tr>\n",
       "      <th>...</th>\n",
       "      <td>...</td>\n",
       "      <td>...</td>\n",
       "      <td>...</td>\n",
       "      <td>...</td>\n",
       "      <td>...</td>\n",
       "      <td>...</td>\n",
       "    </tr>\n",
       "    <tr>\n",
       "      <th>99995</th>\n",
       "      <td>9706</td>\n",
       "      <td>3523</td>\n",
       "      <td>2024-02-28</td>\n",
       "      <td>646926.28</td>\n",
       "      <td>2024-11-22</td>\n",
       "      <td>-268</td>\n",
       "    </tr>\n",
       "    <tr>\n",
       "      <th>99996</th>\n",
       "      <td>9127</td>\n",
       "      <td>5575</td>\n",
       "      <td>2024-06-27</td>\n",
       "      <td>143797.24</td>\n",
       "      <td>2023-06-21</td>\n",
       "      <td>372</td>\n",
       "    </tr>\n",
       "    <tr>\n",
       "      <th>99997</th>\n",
       "      <td>5813</td>\n",
       "      <td>2807</td>\n",
       "      <td>2024-12-31</td>\n",
       "      <td>868164.79</td>\n",
       "      <td>2024-08-06</td>\n",
       "      <td>147</td>\n",
       "    </tr>\n",
       "    <tr>\n",
       "      <th>99998</th>\n",
       "      <td>2296</td>\n",
       "      <td>8539</td>\n",
       "      <td>2024-08-27</td>\n",
       "      <td>735816.27</td>\n",
       "      <td>2023-01-16</td>\n",
       "      <td>589</td>\n",
       "    </tr>\n",
       "    <tr>\n",
       "      <th>99999</th>\n",
       "      <td>6918</td>\n",
       "      <td>8264</td>\n",
       "      <td>2024-01-25</td>\n",
       "      <td>375709.10</td>\n",
       "      <td>2024-08-12</td>\n",
       "      <td>-200</td>\n",
       "    </tr>\n",
       "  </tbody>\n",
       "</table>\n",
       "<p>100000 rows × 6 columns</p>\n",
       "</div>"
      ],
      "text/plain": [
       "       id_sender  id_receiver       dates  amount_new   date_cred  diff_time\n",
       "0           3684         4676  2023-03-14   253006.18  2024-07-28       -502\n",
       "1           9825         8146  2023-12-18   295802.95  2024-07-10       -205\n",
       "2           1156         5379  2023-03-09   635643.48  2023-07-30       -143\n",
       "3           1263         3873  2023-09-09   511433.55  2024-12-16       -464\n",
       "4           1702         9413  2023-07-11   165855.39  2023-05-29         43\n",
       "...          ...          ...         ...         ...         ...        ...\n",
       "99995       9706         3523  2024-02-28   646926.28  2024-11-22       -268\n",
       "99996       9127         5575  2024-06-27   143797.24  2023-06-21        372\n",
       "99997       5813         2807  2024-12-31   868164.79  2024-08-06        147\n",
       "99998       2296         8539  2024-08-27   735816.27  2023-01-16        589\n",
       "99999       6918         8264  2024-01-25   375709.10  2024-08-12       -200\n",
       "\n",
       "[100000 rows x 6 columns]"
      ]
     },
     "execution_count": 37,
     "metadata": {},
     "output_type": "execute_result"
    }
   ],
   "source": [
    "mer"
   ]
  },
  {
   "cell_type": "markdown",
   "id": "aff1cf4c-89ac-4ad0-8189-30cec75b3360",
   "metadata": {},
   "source": [
    "## Оставим нтересный нам период (Т-1 и Т+7)"
   ]
  },
  {
   "cell_type": "code",
   "execution_count": 46,
   "id": "977d2ec3-7fba-41be-b2a4-eb73a1912d57",
   "metadata": {},
   "outputs": [],
   "source": [
    "mer_intresting = mer[(mer['diff_time'] >= -1) & (mer['diff_time'] <= 7)].reset_index().drop(columns = 'index')"
   ]
  },
  {
   "cell_type": "code",
   "execution_count": 47,
   "id": "80ea497f-130d-4e8d-baee-79228467483c",
   "metadata": {},
   "outputs": [
    {
     "data": {
      "text/html": [
       "<div>\n",
       "<style scoped>\n",
       "    .dataframe tbody tr th:only-of-type {\n",
       "        vertical-align: middle;\n",
       "    }\n",
       "\n",
       "    .dataframe tbody tr th {\n",
       "        vertical-align: top;\n",
       "    }\n",
       "\n",
       "    .dataframe thead th {\n",
       "        text-align: right;\n",
       "    }\n",
       "</style>\n",
       "<table border=\"1\" class=\"dataframe\">\n",
       "  <thead>\n",
       "    <tr style=\"text-align: right;\">\n",
       "      <th></th>\n",
       "      <th>id_sender</th>\n",
       "      <th>id_receiver</th>\n",
       "      <th>dates</th>\n",
       "      <th>amount_new</th>\n",
       "      <th>date_cred</th>\n",
       "      <th>diff_time</th>\n",
       "    </tr>\n",
       "  </thead>\n",
       "  <tbody>\n",
       "    <tr>\n",
       "      <th>0</th>\n",
       "      <td>3636</td>\n",
       "      <td>7465</td>\n",
       "      <td>2023-05-01</td>\n",
       "      <td>508517.03</td>\n",
       "      <td>2023-05-01</td>\n",
       "      <td>0</td>\n",
       "    </tr>\n",
       "    <tr>\n",
       "      <th>1</th>\n",
       "      <td>2410</td>\n",
       "      <td>8685</td>\n",
       "      <td>2023-03-16</td>\n",
       "      <td>605139.45</td>\n",
       "      <td>2023-03-10</td>\n",
       "      <td>6</td>\n",
       "    </tr>\n",
       "    <tr>\n",
       "      <th>2</th>\n",
       "      <td>9573</td>\n",
       "      <td>9594</td>\n",
       "      <td>2024-01-24</td>\n",
       "      <td>100849.20</td>\n",
       "      <td>2024-01-24</td>\n",
       "      <td>0</td>\n",
       "    </tr>\n",
       "    <tr>\n",
       "      <th>3</th>\n",
       "      <td>6640</td>\n",
       "      <td>2124</td>\n",
       "      <td>2023-11-21</td>\n",
       "      <td>986239.06</td>\n",
       "      <td>2023-11-22</td>\n",
       "      <td>-1</td>\n",
       "    </tr>\n",
       "    <tr>\n",
       "      <th>4</th>\n",
       "      <td>4963</td>\n",
       "      <td>4630</td>\n",
       "      <td>2023-12-04</td>\n",
       "      <td>977927.02</td>\n",
       "      <td>2023-12-01</td>\n",
       "      <td>3</td>\n",
       "    </tr>\n",
       "    <tr>\n",
       "      <th>...</th>\n",
       "      <td>...</td>\n",
       "      <td>...</td>\n",
       "      <td>...</td>\n",
       "      <td>...</td>\n",
       "      <td>...</td>\n",
       "      <td>...</td>\n",
       "    </tr>\n",
       "    <tr>\n",
       "      <th>1253</th>\n",
       "      <td>7488</td>\n",
       "      <td>9748</td>\n",
       "      <td>2024-01-18</td>\n",
       "      <td>782996.68</td>\n",
       "      <td>2024-01-14</td>\n",
       "      <td>4</td>\n",
       "    </tr>\n",
       "    <tr>\n",
       "      <th>1254</th>\n",
       "      <td>7980</td>\n",
       "      <td>9581</td>\n",
       "      <td>2024-04-24</td>\n",
       "      <td>107254.59</td>\n",
       "      <td>2024-04-17</td>\n",
       "      <td>7</td>\n",
       "    </tr>\n",
       "    <tr>\n",
       "      <th>1255</th>\n",
       "      <td>5389</td>\n",
       "      <td>4323</td>\n",
       "      <td>2024-11-08</td>\n",
       "      <td>995078.00</td>\n",
       "      <td>2024-11-02</td>\n",
       "      <td>6</td>\n",
       "    </tr>\n",
       "    <tr>\n",
       "      <th>1256</th>\n",
       "      <td>7414</td>\n",
       "      <td>4599</td>\n",
       "      <td>2024-11-28</td>\n",
       "      <td>981944.98</td>\n",
       "      <td>2024-11-27</td>\n",
       "      <td>1</td>\n",
       "    </tr>\n",
       "    <tr>\n",
       "      <th>1257</th>\n",
       "      <td>8225</td>\n",
       "      <td>7876</td>\n",
       "      <td>2024-04-03</td>\n",
       "      <td>54212.14</td>\n",
       "      <td>2024-04-01</td>\n",
       "      <td>2</td>\n",
       "    </tr>\n",
       "  </tbody>\n",
       "</table>\n",
       "<p>1258 rows × 6 columns</p>\n",
       "</div>"
      ],
      "text/plain": [
       "      id_sender  id_receiver       dates  amount_new   date_cred  diff_time\n",
       "0          3636         7465  2023-05-01   508517.03  2023-05-01          0\n",
       "1          2410         8685  2023-03-16   605139.45  2023-03-10          6\n",
       "2          9573         9594  2024-01-24   100849.20  2024-01-24          0\n",
       "3          6640         2124  2023-11-21   986239.06  2023-11-22         -1\n",
       "4          4963         4630  2023-12-04   977927.02  2023-12-01          3\n",
       "...         ...          ...         ...         ...         ...        ...\n",
       "1253       7488         9748  2024-01-18   782996.68  2024-01-14          4\n",
       "1254       7980         9581  2024-04-24   107254.59  2024-04-17          7\n",
       "1255       5389         4323  2024-11-08   995078.00  2024-11-02          6\n",
       "1256       7414         4599  2024-11-28   981944.98  2024-11-27          1\n",
       "1257       8225         7876  2024-04-03    54212.14  2024-04-01          2\n",
       "\n",
       "[1258 rows x 6 columns]"
      ]
     },
     "execution_count": 47,
     "metadata": {},
     "output_type": "execute_result"
    }
   ],
   "source": [
    "mer_intresting # 1258 операций"
   ]
  },
  {
   "cell_type": "markdown",
   "id": "58ac0c68-8ac5-4043-b5d4-920f5b6a1fed",
   "metadata": {},
   "source": [
    "## Выведем с кем была связь до данного периода"
   ]
  },
  {
   "cell_type": "code",
   "execution_count": 44,
   "id": "0ff0d564-4292-49a9-8111-09e60561dc31",
   "metadata": {},
   "outputs": [],
   "source": [
    "mer_bad_do = mer.query('diff_time < -1')\n",
    "mer_bad_posle = mer.query('diff_time > 7')\n",
    "mer_bad = pd.concat([mer_bad_do, mer_bad_posle]).reset_index().drop(columns = 'index')\n",
    "\n",
    "mer_bad = mer_bad[['id_sender', 'id_receiver']].drop_duplicates().reset_index().drop(columns = 'index')\n",
    "\n",
    "mer_bad['flag'] = 'Фин связь' # ставим флаг"
   ]
  },
  {
   "cell_type": "code",
   "execution_count": 45,
   "id": "f3c9fdc7-9fad-443a-b651-cdc7b3e35f7f",
   "metadata": {},
   "outputs": [
    {
     "data": {
      "text/html": [
       "<div>\n",
       "<style scoped>\n",
       "    .dataframe tbody tr th:only-of-type {\n",
       "        vertical-align: middle;\n",
       "    }\n",
       "\n",
       "    .dataframe tbody tr th {\n",
       "        vertical-align: top;\n",
       "    }\n",
       "\n",
       "    .dataframe thead th {\n",
       "        text-align: right;\n",
       "    }\n",
       "</style>\n",
       "<table border=\"1\" class=\"dataframe\">\n",
       "  <thead>\n",
       "    <tr style=\"text-align: right;\">\n",
       "      <th></th>\n",
       "      <th>id_sender</th>\n",
       "      <th>id_receiver</th>\n",
       "      <th>flag</th>\n",
       "    </tr>\n",
       "  </thead>\n",
       "  <tbody>\n",
       "    <tr>\n",
       "      <th>0</th>\n",
       "      <td>3684</td>\n",
       "      <td>4676</td>\n",
       "      <td>Фин связь</td>\n",
       "    </tr>\n",
       "    <tr>\n",
       "      <th>1</th>\n",
       "      <td>9825</td>\n",
       "      <td>8146</td>\n",
       "      <td>Фин связь</td>\n",
       "    </tr>\n",
       "    <tr>\n",
       "      <th>2</th>\n",
       "      <td>1156</td>\n",
       "      <td>5379</td>\n",
       "      <td>Фин связь</td>\n",
       "    </tr>\n",
       "    <tr>\n",
       "      <th>3</th>\n",
       "      <td>1263</td>\n",
       "      <td>3873</td>\n",
       "      <td>Фин связь</td>\n",
       "    </tr>\n",
       "    <tr>\n",
       "      <th>4</th>\n",
       "      <td>8940</td>\n",
       "      <td>4495</td>\n",
       "      <td>Фин связь</td>\n",
       "    </tr>\n",
       "    <tr>\n",
       "      <th>...</th>\n",
       "      <td>...</td>\n",
       "      <td>...</td>\n",
       "      <td>...</td>\n",
       "    </tr>\n",
       "    <tr>\n",
       "      <th>98678</th>\n",
       "      <td>4285</td>\n",
       "      <td>1642</td>\n",
       "      <td>Фин связь</td>\n",
       "    </tr>\n",
       "    <tr>\n",
       "      <th>98679</th>\n",
       "      <td>2185</td>\n",
       "      <td>3831</td>\n",
       "      <td>Фин связь</td>\n",
       "    </tr>\n",
       "    <tr>\n",
       "      <th>98680</th>\n",
       "      <td>9127</td>\n",
       "      <td>5575</td>\n",
       "      <td>Фин связь</td>\n",
       "    </tr>\n",
       "    <tr>\n",
       "      <th>98681</th>\n",
       "      <td>5813</td>\n",
       "      <td>2807</td>\n",
       "      <td>Фин связь</td>\n",
       "    </tr>\n",
       "    <tr>\n",
       "      <th>98682</th>\n",
       "      <td>2296</td>\n",
       "      <td>8539</td>\n",
       "      <td>Фин связь</td>\n",
       "    </tr>\n",
       "  </tbody>\n",
       "</table>\n",
       "<p>98683 rows × 3 columns</p>\n",
       "</div>"
      ],
      "text/plain": [
       "       id_sender  id_receiver       flag\n",
       "0           3684         4676  Фин связь\n",
       "1           9825         8146  Фин связь\n",
       "2           1156         5379  Фин связь\n",
       "3           1263         3873  Фин связь\n",
       "4           8940         4495  Фин связь\n",
       "...          ...          ...        ...\n",
       "98678       4285         1642  Фин связь\n",
       "98679       2185         3831  Фин связь\n",
       "98680       9127         5575  Фин связь\n",
       "98681       5813         2807  Фин связь\n",
       "98682       2296         8539  Фин связь\n",
       "\n",
       "[98683 rows x 3 columns]"
      ]
     },
     "execution_count": 45,
     "metadata": {},
     "output_type": "execute_result"
    }
   ],
   "source": [
    "mer_bad"
   ]
  },
  {
   "cell_type": "markdown",
   "id": "8ec83dee-0541-4af1-8902-39ab088657f3",
   "metadata": {},
   "source": [
    "## Соеднияем данные mer_bad к mer_intresing и оставляем пометку, что флаг должен быть пустым"
   ]
  },
  {
   "cell_type": "code",
   "execution_count": 50,
   "id": "6bc59064-b5cf-46ec-bce9-83c94ec9a7a1",
   "metadata": {},
   "outputs": [],
   "source": [
    "mer_intresing_chist = mer_intresting.merge(mer_bad, on = ['id_sender', 'id_receiver'] ,how = 'left')"
   ]
  },
  {
   "cell_type": "code",
   "execution_count": 51,
   "id": "33c457f3-2fe1-4ad2-92cb-4f4ff37c0bd2",
   "metadata": {},
   "outputs": [],
   "source": [
    "mer_intresing_chist = mer_intresing_chist[mer_intresing_chist['flag'].isna()]"
   ]
  },
  {
   "cell_type": "code",
   "execution_count": 53,
   "id": "4cc097f3-b518-4fb6-95bc-3b360524c758",
   "metadata": {},
   "outputs": [
    {
     "data": {
      "text/html": [
       "<div>\n",
       "<style scoped>\n",
       "    .dataframe tbody tr th:only-of-type {\n",
       "        vertical-align: middle;\n",
       "    }\n",
       "\n",
       "    .dataframe tbody tr th {\n",
       "        vertical-align: top;\n",
       "    }\n",
       "\n",
       "    .dataframe thead th {\n",
       "        text-align: right;\n",
       "    }\n",
       "</style>\n",
       "<table border=\"1\" class=\"dataframe\">\n",
       "  <thead>\n",
       "    <tr style=\"text-align: right;\">\n",
       "      <th></th>\n",
       "      <th>id_sender</th>\n",
       "      <th>id_receiver</th>\n",
       "      <th>dates</th>\n",
       "      <th>amount_new</th>\n",
       "      <th>date_cred</th>\n",
       "      <th>diff_time</th>\n",
       "      <th>flag</th>\n",
       "    </tr>\n",
       "  </thead>\n",
       "  <tbody>\n",
       "    <tr>\n",
       "      <th>0</th>\n",
       "      <td>3636</td>\n",
       "      <td>7465</td>\n",
       "      <td>2023-05-01</td>\n",
       "      <td>508517.03</td>\n",
       "      <td>2023-05-01</td>\n",
       "      <td>0</td>\n",
       "      <td>NaN</td>\n",
       "    </tr>\n",
       "    <tr>\n",
       "      <th>1</th>\n",
       "      <td>2410</td>\n",
       "      <td>8685</td>\n",
       "      <td>2023-03-16</td>\n",
       "      <td>605139.45</td>\n",
       "      <td>2023-03-10</td>\n",
       "      <td>6</td>\n",
       "      <td>NaN</td>\n",
       "    </tr>\n",
       "    <tr>\n",
       "      <th>2</th>\n",
       "      <td>9573</td>\n",
       "      <td>9594</td>\n",
       "      <td>2024-01-24</td>\n",
       "      <td>100849.20</td>\n",
       "      <td>2024-01-24</td>\n",
       "      <td>0</td>\n",
       "      <td>NaN</td>\n",
       "    </tr>\n",
       "    <tr>\n",
       "      <th>3</th>\n",
       "      <td>6640</td>\n",
       "      <td>2124</td>\n",
       "      <td>2023-11-21</td>\n",
       "      <td>986239.06</td>\n",
       "      <td>2023-11-22</td>\n",
       "      <td>-1</td>\n",
       "      <td>NaN</td>\n",
       "    </tr>\n",
       "    <tr>\n",
       "      <th>4</th>\n",
       "      <td>4963</td>\n",
       "      <td>4630</td>\n",
       "      <td>2023-12-04</td>\n",
       "      <td>977927.02</td>\n",
       "      <td>2023-12-01</td>\n",
       "      <td>3</td>\n",
       "      <td>NaN</td>\n",
       "    </tr>\n",
       "    <tr>\n",
       "      <th>...</th>\n",
       "      <td>...</td>\n",
       "      <td>...</td>\n",
       "      <td>...</td>\n",
       "      <td>...</td>\n",
       "      <td>...</td>\n",
       "      <td>...</td>\n",
       "      <td>...</td>\n",
       "    </tr>\n",
       "    <tr>\n",
       "      <th>1253</th>\n",
       "      <td>7488</td>\n",
       "      <td>9748</td>\n",
       "      <td>2024-01-18</td>\n",
       "      <td>782996.68</td>\n",
       "      <td>2024-01-14</td>\n",
       "      <td>4</td>\n",
       "      <td>NaN</td>\n",
       "    </tr>\n",
       "    <tr>\n",
       "      <th>1254</th>\n",
       "      <td>7980</td>\n",
       "      <td>9581</td>\n",
       "      <td>2024-04-24</td>\n",
       "      <td>107254.59</td>\n",
       "      <td>2024-04-17</td>\n",
       "      <td>7</td>\n",
       "      <td>NaN</td>\n",
       "    </tr>\n",
       "    <tr>\n",
       "      <th>1255</th>\n",
       "      <td>5389</td>\n",
       "      <td>4323</td>\n",
       "      <td>2024-11-08</td>\n",
       "      <td>995078.00</td>\n",
       "      <td>2024-11-02</td>\n",
       "      <td>6</td>\n",
       "      <td>NaN</td>\n",
       "    </tr>\n",
       "    <tr>\n",
       "      <th>1256</th>\n",
       "      <td>7414</td>\n",
       "      <td>4599</td>\n",
       "      <td>2024-11-28</td>\n",
       "      <td>981944.98</td>\n",
       "      <td>2024-11-27</td>\n",
       "      <td>1</td>\n",
       "      <td>NaN</td>\n",
       "    </tr>\n",
       "    <tr>\n",
       "      <th>1257</th>\n",
       "      <td>8225</td>\n",
       "      <td>7876</td>\n",
       "      <td>2024-04-03</td>\n",
       "      <td>54212.14</td>\n",
       "      <td>2024-04-01</td>\n",
       "      <td>2</td>\n",
       "      <td>NaN</td>\n",
       "    </tr>\n",
       "  </tbody>\n",
       "</table>\n",
       "<p>1256 rows × 7 columns</p>\n",
       "</div>"
      ],
      "text/plain": [
       "      id_sender  id_receiver       dates  amount_new   date_cred  diff_time  \\\n",
       "0          3636         7465  2023-05-01   508517.03  2023-05-01          0   \n",
       "1          2410         8685  2023-03-16   605139.45  2023-03-10          6   \n",
       "2          9573         9594  2024-01-24   100849.20  2024-01-24          0   \n",
       "3          6640         2124  2023-11-21   986239.06  2023-11-22         -1   \n",
       "4          4963         4630  2023-12-04   977927.02  2023-12-01          3   \n",
       "...         ...          ...         ...         ...         ...        ...   \n",
       "1253       7488         9748  2024-01-18   782996.68  2024-01-14          4   \n",
       "1254       7980         9581  2024-04-24   107254.59  2024-04-17          7   \n",
       "1255       5389         4323  2024-11-08   995078.00  2024-11-02          6   \n",
       "1256       7414         4599  2024-11-28   981944.98  2024-11-27          1   \n",
       "1257       8225         7876  2024-04-03    54212.14  2024-04-01          2   \n",
       "\n",
       "     flag  \n",
       "0     NaN  \n",
       "1     NaN  \n",
       "2     NaN  \n",
       "3     NaN  \n",
       "4     NaN  \n",
       "...   ...  \n",
       "1253  NaN  \n",
       "1254  NaN  \n",
       "1255  NaN  \n",
       "1256  NaN  \n",
       "1257  NaN  \n",
       "\n",
       "[1256 rows x 7 columns]"
      ]
     },
     "execution_count": 53,
     "metadata": {},
     "output_type": "execute_result"
    }
   ],
   "source": [
    "mer_intresing_chist # осталось 125 операции (с двумя ранее была связь)"
   ]
  },
  {
   "cell_type": "markdown",
   "id": "849788f7-124c-4578-82e7-92e07f7adad3",
   "metadata": {},
   "source": [
    "# В реальных же случаях связей обнаруживается куда больше. Таким образом, были выведены операции с потенциальными мошенниками. Далее, по ним можно строить граф (в следующим файле)"
   ]
  },
  {
   "cell_type": "code",
   "execution_count": null,
   "id": "bda0e062-ccc8-43f8-8222-5f22463ec945",
   "metadata": {},
   "outputs": [],
   "source": []
  }
 ],
 "metadata": {
  "kernelspec": {
   "display_name": "Python 3 (ipykernel)",
   "language": "python",
   "name": "python3"
  },
  "language_info": {
   "codemirror_mode": {
    "name": "ipython",
    "version": 3
   },
   "file_extension": ".py",
   "mimetype": "text/x-python",
   "name": "python",
   "nbconvert_exporter": "python",
   "pygments_lexer": "ipython3",
   "version": "3.12.1"
  }
 },
 "nbformat": 4,
 "nbformat_minor": 5
}
