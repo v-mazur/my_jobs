{
 "cells": [
  {
   "cell_type": "code",
   "execution_count": null,
   "id": "24557d02-51f8-429b-9cd8-14325cee5b67",
   "metadata": {},
   "outputs": [],
   "source": [
    "import pytube\n",
    "from tqdm import tqdm"
   ]
  },
  {
   "cell_type": "code",
   "execution_count": null,
   "id": "d16f7ca0-d6fd-45a7-9c04-798db7e0a8f8",
   "metadata": {},
   "outputs": [],
   "source": [
    "#записываем ссылки в список\n",
    "links = ['https://www.youtube.com/watch?v=00000', \n",
    "         'https://www.youtube.com/watch?v=0000', \n",
    "         'https://www.youtube.com/watch?v=0000', \n",
    "         'https://www.youtube.com/watch?v=00000', \n",
    "         'https://www.youtube.com/watch?v=000000-A'\n",
    "        ]"
   ]
  },
  {
   "cell_type": "code",
   "execution_count": null,
   "id": "7f0ab444-4f20-4ff5-a29c-67b0f2bed06c",
   "metadata": {
    "scrolled": true
   },
   "outputs": [],
   "source": [
    "# создаем цикл для скачивания\n",
    "for link in tqdm(links):\n",
    "    yt = pytube.YouTube(link) \n",
    "    stream = yt.streams.filter(res='720p').first()\n",
    "    stream.download()\n",
    "    print(f'{link} - ready!')"
   ]
  },
  {
   "cell_type": "code",
   "execution_count": null,
   "id": "b1f6aad7-e041-45da-9ece-b65c9a405fdf",
   "metadata": {},
   "outputs": [],
   "source": []
  }
 ],
 "metadata": {
  "kernelspec": {
   "display_name": "Python 3 (ipykernel)",
   "language": "python",
   "name": "python3"
  },
  "language_info": {
   "codemirror_mode": {
    "name": "ipython",
    "version": 3
   },
   "file_extension": ".py",
   "mimetype": "text/x-python",
   "name": "python",
   "nbconvert_exporter": "python",
   "pygments_lexer": "ipython3",
   "version": "3.12.1"
  }
 },
 "nbformat": 4,
 "nbformat_minor": 5
}
