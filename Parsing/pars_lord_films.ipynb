{
 "cells": [
  {
   "cell_type": "code",
   "execution_count": 1,
   "id": "41156073-053b-47a2-9ad6-6bc0fcfb14a9",
   "metadata": {},
   "outputs": [],
   "source": [
    "import pandas as pd\n",
    "import re\n",
    "from bs4 import BeautifulSoup\n",
    "import requests\n",
    "\n",
    "from selenium.webdriver import Chrome\n",
    "from selenium.webdriver.common.keys import Keys\n",
    "from selenium.webdriver.support.ui import WebDriverWait as wait\n",
    "from selenium.webdriver.support import expected_conditions as EC\n",
    "from selenium.common.exceptions import NoSuchElementException\n",
    "from bs4 import BeautifulSoup\n",
    "from time import sleep\n",
    "from selenium.webdriver.common.by import By\n",
    "from selenium.webdriver.chrome.service import Service\n",
    "from selenium import webdriver"
   ]
  },
  {
   "cell_type": "code",
   "execution_count": 10,
   "id": "1de3e9f0-5993-414e-8723-c15021b80edc",
   "metadata": {},
   "outputs": [
    {
     "name": "stdin",
     "output_type": "stream",
     "text": [
      "Введите название: война миров z\n"
     ]
    },
    {
     "name": "stdout",
     "output_type": "stream",
     "text": [
      "Фильм найден. Ссылка: https://hd.lordfilm15.info/1742-vojna-mirov-z-2013.html\n",
      "None\n"
     ]
    },
    {
     "data": {
      "text/html": [
       "<div>\n",
       "<style scoped>\n",
       "    .dataframe tbody tr th:only-of-type {\n",
       "        vertical-align: middle;\n",
       "    }\n",
       "\n",
       "    .dataframe tbody tr th {\n",
       "        vertical-align: top;\n",
       "    }\n",
       "\n",
       "    .dataframe thead th {\n",
       "        text-align: right;\n",
       "    }\n",
       "</style>\n",
       "<table border=\"1\" class=\"dataframe\">\n",
       "  <thead>\n",
       "    <tr style=\"text-align: right;\">\n",
       "      <th></th>\n",
       "      <th>names</th>\n",
       "      <th>links</th>\n",
       "    </tr>\n",
       "  </thead>\n",
       "  <tbody>\n",
       "    <tr>\n",
       "      <th>0</th>\n",
       "      <td>Война миров Z</td>\n",
       "      <td>https://hd.lordfilm15.info/1742-vojna-mirov-z-...</td>\n",
       "    </tr>\n",
       "  </tbody>\n",
       "</table>\n",
       "</div>"
      ],
      "text/plain": [
       "           names                                              links\n",
       "0  Война миров Z  https://hd.lordfilm15.info/1742-vojna-mirov-z-..."
      ]
     },
     "execution_count": 10,
     "metadata": {},
     "output_type": "execute_result"
    }
   ],
   "source": [
    "name_films = input('Введите название:')\n",
    "# Подключаемся\n",
    "options = webdriver.ChromeOptions()\n",
    "# options.add_argument('--headless') #если не хотим, чтобы всплывало окно\n",
    "# options.add_argument('--no-sandbox')\n",
    "# options.add_argument('--disable-dev-shm-usage')\n",
    "service = Service(executable_path=r\"chromedriver.exe\") \n",
    "driver = webdriver.Chrome(service=service, options=options)\n",
    "driver.maximize_window() #чтобы открывало на полный экран\n",
    "\n",
    "sleep(2)\n",
    "\n",
    "url = \"https://hd.lordfilm15.info\" \n",
    "driver.get(url) #получаем сайт/открываем\n",
    "\n",
    "sleep(3)\n",
    "\n",
    "element = driver.find_element(By.ID ,\"story\")\n",
    "element.send_keys(name_films)\n",
    "element.send_keys(Keys.ENTER) #вводим данные\n",
    "\n",
    "soup = BeautifulSoup(driver.page_source, \"html\") # получаем исходный код\n",
    "\n",
    "name = soup.find_all('div', \"th-title\") # получаем все имена\n",
    "links = soup.find_all('a', \"th-in with-mask\") # получаем ссылки\n",
    "\n",
    "#создаем итоговый df\n",
    "df = pd.DataFrame(name, columns = ['names'])\n",
    "\n",
    "df['links'] = links\n",
    "df['links'] = df['links'].astype(str)\n",
    "df['links'] = df['links'].apply(lambda x: re.findall('href=\"(.*)\">', x))\n",
    "df['links'] = df['links'].astype(str)\n",
    "df['links'] = df['links'].apply(lambda x: x.replace(\"['\", '').replace(\"']\", ''))\n",
    "\n",
    "# работаем с пользователем\n",
    "if len(df) == 0:\n",
    "    res = 'ничего не найдено'\n",
    "elif len(df) == 1:\n",
    "    res = print(f'Фильм найден. Ссылка: {df['links'][0]}')\n",
    "elif len(df) > 1:\n",
    "    res = 'по вашему запросу нашлось более одного фильма'\n",
    "print(res)\n",
    "\n",
    "df"
   ]
  },
  {
   "cell_type": "code",
   "execution_count": null,
   "id": "151b3489-820e-4a0a-be2e-ca29a6abd586",
   "metadata": {},
   "outputs": [],
   "source": []
  }
 ],
 "metadata": {
  "kernelspec": {
   "display_name": "Python 3 (ipykernel)",
   "language": "python",
   "name": "python3"
  },
  "language_info": {
   "codemirror_mode": {
    "name": "ipython",
    "version": 3
   },
   "file_extension": ".py",
   "mimetype": "text/x-python",
   "name": "python",
   "nbconvert_exporter": "python",
   "pygments_lexer": "ipython3",
   "version": "3.12.1"
  }
 },
 "nbformat": 4,
 "nbformat_minor": 5
}
