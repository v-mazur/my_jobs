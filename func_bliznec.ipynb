{
 "cells": [
  {
   "cell_type": "code",
   "execution_count": 1,
   "id": "18785adc",
   "metadata": {},
   "outputs": [],
   "source": [
    "# Вообще, насколько мне известно, числа-близнецы это (3,5), (3,7) и т.д. \n",
    "#Но согласно заданию, это те числа, которые +/- 2 дают простое, отсюда и моя функция.\n",
    "# Помимо вывода True и False в скобках добавил еще комментарий какое именно это число\n",
    "\n",
    "def prime(vvod):\n",
    "    if vvod > 2:\n",
    "        c = 0\n",
    "        k = 0\n",
    "        for i in range(2, vvod):\n",
    "            if (vvod % i == 0):\n",
    "                c = c+1\n",
    "        if (c <= 0):\n",
    "            for b in range(2, (vvod + 2)):\n",
    "                if ((vvod - 2) % b == 0):\n",
    "                    k = k + 1\n",
    "                if (k <= 0):\n",
    "                    if ((vvod + 2) % b == 0):\n",
    "                        k = k + 1      \n",
    "            if (k <= 1):\n",
    "                res = \"True (Число близнец)\"\n",
    "            else:\n",
    "                res = 'False (Простое, но не близнец)'\n",
    "        else:\n",
    "            res = \"False (Число не является простым, а значит и не близнецом)\"\n",
    "    else:\n",
    "            res = 'False'\n",
    "        \n",
    "    return res"
   ]
  },
  {
   "cell_type": "code",
   "execution_count": 2,
   "id": "0fd35256",
   "metadata": {},
   "outputs": [
    {
     "name": "stdout",
     "output_type": "stream",
     "text": [
      "Введите число: 3\n"
     ]
    },
    {
     "data": {
      "text/plain": [
       "'True (Число близнец)'"
      ]
     },
     "execution_count": 2,
     "metadata": {},
     "output_type": "execute_result"
    }
   ],
   "source": [
    "vvod = int(input(\"Введите число: \"))\n",
    "prime(vvod) # Проверка работоспосбности"
   ]
  },
  {
   "cell_type": "code",
   "execution_count": null,
   "id": "967e63e7",
   "metadata": {},
   "outputs": [],
   "source": []
  }
 ],
 "metadata": {
  "kernelspec": {
   "display_name": "Python 3 (ipykernel)",
   "language": "python",
   "name": "python3"
  },
  "language_info": {
   "codemirror_mode": {
    "name": "ipython",
    "version": 3
   },
   "file_extension": ".py",
   "mimetype": "text/x-python",
   "name": "python",
   "nbconvert_exporter": "python",
   "pygments_lexer": "ipython3",
   "version": "3.9.13"
  }
 },
 "nbformat": 4,
 "nbformat_minor": 5
}
